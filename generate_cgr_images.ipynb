{
 "cells": [
  {
   "cell_type": "code",
   "execution_count": 1,
   "id": "2abae1b0-431a-45c1-aa9b-2dd06afa2be4",
   "metadata": {},
   "outputs": [
    {
     "name": "stdout",
     "output_type": "stream",
     "text": [
      "🔹 Generating Human CGRs...\n",
      "🔹 Generating NonHuman CGRs...\n",
      "✅ CGR Images Generated Successfully!\n"
     ]
    }
   ],
   "source": [
    "import pandas as pd\n",
    "import numpy as np\n",
    "import matplotlib.pyplot as plt\n",
    "import os\n",
    "\n",
    "# CGR Plotting Function\n",
    "def plot_cgr(sequence, save_path):\n",
    "    mapping = {'A': (0, 0), 'C': (0, 1), 'G': (1, 1), 'T': (1, 0)}\n",
    "    x, y = 0.5, 0.5\n",
    "    X, Y = [x], [y]\n",
    "    for base in sequence:\n",
    "        move = mapping.get(base, (0.5, 0.5))\n",
    "        x = (x + move[0]) / 2\n",
    "        y = (y + move[1]) / 2\n",
    "        X.append(x)\n",
    "        Y.append(y)\n",
    "    plt.figure(figsize=(4, 4))\n",
    "    plt.plot(X, Y, 'k.', markersize=0.5)\n",
    "    plt.axis('off')\n",
    "    plt.savefig(save_path, bbox_inches='tight', pad_inches=0)\n",
    "    plt.close()\n",
    "\n",
    "# Load DNA sequences\n",
    "human = pd.read_csv('dataset/human_sequences.csv')['Sequence']\n",
    "nonhuman = pd.read_csv('dataset/nonhuman_sequences.csv')['Sequence']\n",
    "\n",
    "# Create output folders\n",
    "os.makedirs('cgr_images/Human', exist_ok=True)\n",
    "os.makedirs('cgr_images/NonHuman', exist_ok=True)\n",
    "\n",
    "# Generate CGR images\n",
    "print(\"🔹 Generating Human CGRs...\")\n",
    "for idx, seq in enumerate(human):\n",
    "    plot_cgr(seq.upper(), f'cgr_images/Human/human_{idx}.png')\n",
    "\n",
    "print(\"🔹 Generating NonHuman CGRs...\")\n",
    "for idx, seq in enumerate(nonhuman):\n",
    "    plot_cgr(seq.upper(), f'cgr_images/NonHuman/nonhuman_{idx}.png')\n",
    "\n",
    "print(\"✅ CGR Images Generated Successfully!\")\n"
   ]
  },
  {
   "cell_type": "code",
   "execution_count": null,
   "id": "399db623-1b02-4b6a-8783-65ea118260d0",
   "metadata": {},
   "outputs": [],
   "source": []
  }
 ],
 "metadata": {
  "kernelspec": {
   "display_name": "Python 3 (ipykernel)",
   "language": "python",
   "name": "python3"
  },
  "language_info": {
   "codemirror_mode": {
    "name": "ipython",
    "version": 3
   },
   "file_extension": ".py",
   "mimetype": "text/x-python",
   "name": "python",
   "nbconvert_exporter": "python",
   "pygments_lexer": "ipython3",
   "version": "3.12.5"
  }
 },
 "nbformat": 4,
 "nbformat_minor": 5
}
